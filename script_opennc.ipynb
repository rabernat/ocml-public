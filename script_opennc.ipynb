{
 "cells": [
  {
   "cell_type": "code",
   "execution_count": 1,
   "metadata": {
    "collapsed": true
   },
   "outputs": [],
   "source": [
    "# a little script for open multiple netCDF files using xray\n",
    "import numpy as np\n",
    "import pandas as pd\n",
    "import xray as xr\n",
    "from matplotlib import pyplot as plt\n",
    "%matplotlib inline"
   ]
  },
  {
   "cell_type": "code",
   "execution_count": 39,
   "metadata": {
    "collapsed": true
   },
   "outputs": [],
   "source": [
    "#!wget http://oceandata.sci.gsfc.nasa.gov/cgi/getfile/A20110012011008.L3b_8D_CHL.nc\n",
    "da1 = xr.open_dataset('A20110012011008.L3b_8D_CHL.nc')"
   ]
  },
  {
   "cell_type": "code",
   "execution_count": 40,
   "metadata": {
    "collapsed": false
   },
   "outputs": [
    {
     "data": {
      "text/plain": [
       "Frozen(OrderedDict())"
      ]
     },
     "execution_count": 40,
     "metadata": {},
     "output_type": "execute_result"
    }
   ],
   "source": [
    "da1.variables"
   ]
  },
  {
   "cell_type": "code",
   "execution_count": 41,
   "metadata": {
    "collapsed": false
   },
   "outputs": [
    {
     "data": {
      "text/plain": [
       "<bound method ImplementsDatasetReduce._reduce_method.<locals>.wrapped_func of <xray.Dataset>\n",
       "Dimensions:  ()\n",
       "Coordinates:\n",
       "    *empty*\n",
       "Data variables:\n",
       "    *empty*\n",
       "Attributes:\n",
       "    product_name: A20110012011008.L3b_8D_CHL.nc\n",
       "    title: MODIS Level-3 Binned Data\n",
       "    instrument: MODIS\n",
       "    platform: Aqua\n",
       "    temporal_range: 8-day\n",
       "    start_orbit_number: 46073\n",
       "    end_orbit_number: 46190\n",
       "    date_created: 2015177024636000\n",
       "    processing_version: 2014.0\n",
       "    history: l3bin par=A20110012011008.L3b_8D_CHL.param\n",
       "    time_coverage_start: 2010-12-31T23:25:08.000Z\n",
       "    time_coverage_end: 2011-01-09T02:45:07.000Z\n",
       "    northernmost_latitude: 47.6042\n",
       "    southernmost_latitude: -78.4792\n",
       "    easternmost_longitude: 179.979\n",
       "    westernmost_longitude: -179.979\n",
       "    geospatial_lat_max: 47.6041679382\n",
       "    geospatial_lat_min: -78.4791641235\n",
       "    geospatial_lon_max: 179.979171753\n",
       "    geospatial_lon_min: -179.979171753\n",
       "    geospatial_lat_units: degrees_north\n",
       "    geospatial_lon_units: degrees_east\n",
       "    geospatial_lon_resolution: 0.0416666666667\n",
       "    geospatial_lat_resolution: 0.0416666666667\n",
       "    spatialResolution: 4.6 km\n",
       "    data_bins: 7654961\n",
       "    percent_data_bins: 32.2156\n",
       "    units: chlor_a:mg m^-3,chl_ocx:mg m^-3\n",
       "    binning_scheme: Integerized Sinusoidal Grid\n",
       "    project: Ocean Biology Processing Group (NASA/GSFC/OBPG)\n",
       "    institution: NASA Goddard Space Flight Center, Ocean Ecology Laboratory, Ocean Biology Processing Group\n",
       "    standard_name_vocabulary: NetCDF Climate and Forecast (CF) Metadata Conventions\n",
       "    Metadata_Conventions: Unidata Dataset Discovery v1.0\n",
       "    Conventions: CF-1.6, Unidata Dataset Discovery v1.0\n",
       "    naming_authority: gov.nasa.gsfc.sci.oceandata\n",
       "    id: A20110012011008.L3b_8D_CHL.nc/L3/A20110012011008.L3b_8D_CHL.nc\n",
       "    license: http://science.nasa.gov/earth-science/earth-science-data/data-information-policy/\n",
       "    creator_name: NASA/GSFC/OBPG\n",
       "    publisher_name: NASA/GSFC/OBPG\n",
       "    creator_email: data@oceancolor.gsfc.nasa.gov\n",
       "    publisher_email: data@oceancolor.gsfc.nasa.gov\n",
       "    creator_url: http://oceandata.sci.gsfc.nasa.gov\n",
       "    publisher_url: http://oceandata.sci.gsfc.nasa.gov\n",
       "    processing_level: L3 Binned\n",
       "    cdm_data_type: point\n",
       "    identifier_product_doi_authority: http://dx.doi.org\n",
       "    identifier_product_doi: 10.5067/AQUA/MODIS_OC.2014.0\n",
       "    keywords: Oceans > Ocean Chemistry > Chlorophyll; Oceans > Ocean Optics > Ocean Color\n",
       "    keywords_vocabulary: NASA Global Change Master Directory (GCMD) Science Keywords>"
      ]
     },
     "execution_count": 41,
     "metadata": {},
     "output_type": "execute_result"
    }
   ],
   "source": [
    "da1.var"
   ]
  },
  {
   "cell_type": "code",
   "execution_count": 13,
   "metadata": {
    "collapsed": false
   },
   "outputs": [
    {
     "name": "stdout",
     "output_type": "stream",
     "text": [
      "<xray.Dataset>\n",
      "Dimensions:  ()\n",
      "Coordinates:\n",
      "    *empty*\n",
      "Data variables:\n",
      "    *empty*\n",
      "Attributes:\n",
      "    product_name: A20110012011008.L3b_8D_CHL.nc\n",
      "    title: MODIS Level-3 Binned Data\n",
      "    instrument: MODIS\n",
      "    platform: Aqua\n",
      "    temporal_range: 8-day\n",
      "    start_orbit_number: 46073\n",
      "    end_orbit_number: 46190\n",
      "    date_created: 2015177024636000\n",
      "    processing_version: 2014.0\n",
      "    history: l3bin par=A20110012011008.L3b_8D_CHL.param\n",
      "    time_coverage_start: 2010-12-31T23:25:08.000Z\n",
      "    time_coverage_end: 2011-01-09T02:45:07.000Z\n",
      "    northernmost_latitude: 47.6042\n",
      "    southernmost_latitude: -78.4792\n",
      "    easternmost_longitude: 179.979\n",
      "    westernmost_longitude: -179.979\n",
      "    geospatial_lat_max: 47.6041679382\n",
      "    geospatial_lat_min: -78.4791641235\n",
      "    geospatial_lon_max: 179.979171753\n",
      "    geospatial_lon_min: -179.979171753\n",
      "    geospatial_lat_units: degrees_north\n",
      "    geospatial_lon_units: degrees_east\n",
      "    geospatial_lon_resolution: 0.0416666666667\n",
      "    geospatial_lat_resolution: 0.0416666666667\n",
      "    spatialResolution: 4.6 km\n",
      "    data_bins: 7654961\n",
      "    percent_data_bins: 32.2156\n",
      "    units: chlor_a:mg m^-3,chl_ocx:mg m^-3\n",
      "    binning_scheme: Integerized Sinusoidal Grid\n",
      "    project: Ocean Biology Processing Group (NASA/GSFC/OBPG)\n",
      "    institution: NASA Goddard Space Flight Center, Ocean Ecology Laboratory, Ocean Biology Processing Group\n",
      "    standard_name_vocabulary: NetCDF Climate and Forecast (CF) Metadata Conventions\n",
      "    Metadata_Conventions: Unidata Dataset Discovery v1.0\n",
      "    Conventions: CF-1.6, Unidata Dataset Discovery v1.0\n",
      "    naming_authority: gov.nasa.gsfc.sci.oceandata\n",
      "    id: A20110012011008.L3b_8D_CHL.nc/L3/A20110012011008.L3b_8D_CHL.nc\n",
      "    license: http://science.nasa.gov/earth-science/earth-science-data/data-information-policy/\n",
      "    creator_name: NASA/GSFC/OBPG\n",
      "    publisher_name: NASA/GSFC/OBPG\n",
      "    creator_email: data@oceancolor.gsfc.nasa.gov\n",
      "    publisher_email: data@oceancolor.gsfc.nasa.gov\n",
      "    creator_url: http://oceandata.sci.gsfc.nasa.gov\n",
      "    publisher_url: http://oceandata.sci.gsfc.nasa.gov\n",
      "    processing_level: L3 Binned\n",
      "    cdm_data_type: point\n",
      "    identifier_product_doi_authority: http://dx.doi.org\n",
      "    identifier_product_doi: 10.5067/AQUA/MODIS_OC.2014.0\n",
      "    keywords: Oceans > Ocean Chemistry > Chlorophyll; Oceans > Ocean Optics > Ocean Color\n",
      "    keywords_vocabulary: NASA Global Change Master Directory (GCMD) Science Keywords\n"
     ]
    }
   ],
   "source": [
    "print(da1)"
   ]
  },
  {
   "cell_type": "code",
   "execution_count": 14,
   "metadata": {
    "collapsed": true
   },
   "outputs": [],
   "source": [
    "############# let's try to use python module netCDF4"
   ]
  },
  {
   "cell_type": "code",
   "execution_count": 15,
   "metadata": {
    "collapsed": true
   },
   "outputs": [],
   "source": [
    "from netCDF4 import Dataset"
   ]
  },
  {
   "cell_type": "code",
   "execution_count": 16,
   "metadata": {
    "collapsed": true
   },
   "outputs": [],
   "source": [
    "da1_netcdf = Dataset('A20110012011008.L3b_8D_CHL.nc')"
   ]
  },
  {
   "cell_type": "code",
   "execution_count": 29,
   "metadata": {
    "collapsed": false
   },
   "outputs": [
    {
     "data": {
      "text/plain": [
       "OrderedDict()"
      ]
     },
     "execution_count": 29,
     "metadata": {},
     "output_type": "execute_result"
    }
   ],
   "source": [
    "da1_netcdf.variables"
   ]
  },
  {
   "cell_type": "code",
   "execution_count": 25,
   "metadata": {
    "collapsed": false
   },
   "outputs": [
    {
     "data": {
      "text/plain": [
       "['product_name',\n",
       " 'title',\n",
       " 'instrument',\n",
       " 'platform',\n",
       " 'temporal_range',\n",
       " 'start_orbit_number',\n",
       " 'end_orbit_number',\n",
       " 'date_created',\n",
       " 'processing_version',\n",
       " 'history',\n",
       " 'time_coverage_start',\n",
       " 'time_coverage_end',\n",
       " 'northernmost_latitude',\n",
       " 'southernmost_latitude',\n",
       " 'easternmost_longitude',\n",
       " 'westernmost_longitude',\n",
       " 'geospatial_lat_max',\n",
       " 'geospatial_lat_min',\n",
       " 'geospatial_lon_max',\n",
       " 'geospatial_lon_min',\n",
       " 'geospatial_lat_units',\n",
       " 'geospatial_lon_units',\n",
       " 'geospatial_lon_resolution',\n",
       " 'geospatial_lat_resolution',\n",
       " 'spatialResolution',\n",
       " 'data_bins',\n",
       " 'percent_data_bins',\n",
       " 'units',\n",
       " 'binning_scheme',\n",
       " 'project',\n",
       " 'institution',\n",
       " 'standard_name_vocabulary',\n",
       " 'Metadata_Conventions',\n",
       " 'Conventions',\n",
       " 'naming_authority',\n",
       " 'id',\n",
       " 'license',\n",
       " 'creator_name',\n",
       " 'publisher_name',\n",
       " 'creator_email',\n",
       " 'publisher_email',\n",
       " 'creator_url',\n",
       " 'publisher_url',\n",
       " 'processing_level',\n",
       " 'cdm_data_type',\n",
       " 'identifier_product_doi_authority',\n",
       " 'identifier_product_doi',\n",
       " 'keywords',\n",
       " 'keywords_vocabulary']"
      ]
     },
     "execution_count": 25,
     "metadata": {},
     "output_type": "execute_result"
    }
   ],
   "source": [
    "da1_netcdf.ncattrs()"
   ]
  },
  {
   "cell_type": "code",
   "execution_count": 26,
   "metadata": {
    "collapsed": true
   },
   "outputs": [],
   "source": [
    "# http://oceandata.sci.gsfc.nasa.gov/cgi/getfile/T2011001053500.L2_LAC_SST.nc\n",
    "l2_xray = xr.open_dataset('T2011001053500.L2_LAC_SST.nc')"
   ]
  },
  {
   "cell_type": "code",
   "execution_count": 33,
   "metadata": {
    "collapsed": false
   },
   "outputs": [
    {
     "data": {
      "text/plain": [
       "Frozen(OrderedDict())"
      ]
     },
     "execution_count": 33,
     "metadata": {},
     "output_type": "execute_result"
    }
   ],
   "source": [
    "l2_xray.variables"
   ]
  },
  {
   "cell_type": "code",
   "execution_count": 28,
   "metadata": {
    "collapsed": false
   },
   "outputs": [
    {
     "data": {
      "text/plain": [
       "<bound method ImplementsDatasetReduce._reduce_method.<locals>.wrapped_func of <xray.Dataset>\n",
       "Dimensions:  ()\n",
       "Coordinates:\n",
       "    *empty*\n",
       "Data variables:\n",
       "    *empty*\n",
       "Attributes:\n",
       "    title: HMODIST Level-2 Data\n",
       "    product_name: T2011001053500.L2_LAC_SST.nc\n",
       "    processing_version: 2014.0\n",
       "    equatorCrossingLongitude: 72.9871\n",
       "    orbit_number: 58714\n",
       "    history: l2gen par=/data5/sdpsoper/vdc/vpu12/workbuf/T2011001053500.L1B_LAC.param metafile=T2011001053500.L2_LAC_SST.nc.meta\n",
       "    instrument: MODIS\n",
       "    platform: Terra\n",
       "    Conventions: CF-1.6\n",
       "    Metadata_Conventions: Unidata Dataset Discovery v1.0\n",
       "    license: http://science.nasa.gov/earth-science/earth-science-data/data-information-policy/\n",
       "    naming_authority: gov.nasa.gsfc.sci.oceandata\n",
       "    id: 2014.0/L2/T2011001053500.L2_LAC_SST.nc\n",
       "    date_created: 2015-02-20T10:17:42.000Z\n",
       "    keywords_vocabulary: NASA Global Change Master Directory (GCMD) Science Keywords\n",
       "    keywords: Oceans > Ocean Temperature > Sea Surface Temperature\n",
       "    standard_name_vocabulary: NetCDF Climate and Forecast (CF) Metadata Convention\n",
       "    institution: NASA Goddard Space Flight Center, Ocean Ecology Laboratory, Ocean Biology Processing Group\n",
       "    creator_name: NASA/GSFC/OBPG\n",
       "    creator_email: data@oceancolor.gsfc.nasa.gov\n",
       "    creator_url: http://oceandata.sci.gsfc.nasa.gov\n",
       "    project: Ocean Biology Processing Group (NASA/GSFC/OBPG)\n",
       "    publisher_name: NASA/GSFC/OBPG\n",
       "    publisher_url: http://oceandata.sci.gsfc.nasa.gov\n",
       "    publisher_email: data@oceancolor.gsfc.nasa.gov\n",
       "    identifier_product_doi_authority: http://dx.doi.org\n",
       "    identifier_product_doi: 10.5067/TERRA/MODIS_OC.2014.0\n",
       "    processing_level: L2\n",
       "    cdm_data_type: swath\n",
       "    equatorCrossingDateTime: 2011-01-01T05:37:41.315Z\n",
       "    spatialResolution: 1 km\n",
       "    time_coverage_start: 2011-01-01T05:35:08.776Z\n",
       "    time_coverage_end: 2011-01-01T05:40:07.159Z\n",
       "    start_center_longitude: 75.0525\n",
       "    start_center_latitude: 9.67822\n",
       "    end_center_longitude: 71.1873\n",
       "    end_center_latitude: -8.44374\n",
       "    northernmost_latitude: 11.0933\n",
       "    southernmost_latitude: -9.87167\n",
       "    easternmost_longitude: 85.4509\n",
       "    westernmost_longitude: 60.7267\n",
       "    geospatial_lat_units: degrees_north\n",
       "    geospatial_lon_units: degrees_east\n",
       "    geospatial_lat_max: 11.0933\n",
       "    geospatial_lat_min: -9.87167\n",
       "    geospatial_lon_max: 85.4509\n",
       "    geospatial_lon_min: 60.7267\n",
       "    startDirection: Descending\n",
       "    endDirection: Descending\n",
       "    day_night_flag: Day\n",
       "    earth_sun_distance_correction: 1.03423953056>"
      ]
     },
     "execution_count": 28,
     "metadata": {},
     "output_type": "execute_result"
    }
   ],
   "source": [
    "l2_xray.var"
   ]
  },
  {
   "cell_type": "code",
   "execution_count": null,
   "metadata": {
    "collapsed": true
   },
   "outputs": [],
   "source": []
  }
 ],
 "metadata": {
  "kernelspec": {
   "display_name": "Python 3",
   "language": "python",
   "name": "python3"
  },
  "language_info": {
   "codemirror_mode": {
    "name": "ipython",
    "version": 3
   },
   "file_extension": ".py",
   "mimetype": "text/x-python",
   "name": "python",
   "nbconvert_exporter": "python",
   "pygments_lexer": "ipython3",
   "version": "3.5.1"
  }
 },
 "nbformat": 4,
 "nbformat_minor": 0
}
